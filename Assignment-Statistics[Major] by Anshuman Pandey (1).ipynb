{
 "cells": [
  {
   "cell_type": "code",
   "execution_count": 27,
   "id": "62f71cf9",
   "metadata": {},
   "outputs": [],
   "source": [
    "import pandas as pd\n",
    "import numpy as np\n",
    "import matplotlib.pyplot as plt\n",
    "import seaborn as sns\n",
    "import statistics as stats\n",
    "import math\n",
    "import scipy.stats as s\n",
    "import warnings"
   ]
  },
  {
   "cell_type": "raw",
   "id": "4edf3b65",
   "metadata": {},
   "source": [
    "1.  According to a study, the daily average time spent by a user on a\n",
    "    social media website is 50 minutes. To test the claim of this study,\n",
    "    Ramesh, a researcher, takes a sample of 25 website users and finds\n",
    "    out that the mean time spent by the sample users is 60 minutes and\n",
    "    the sample standard deviation is 30 minutes.\n",
    "    Based on this information, the null and the alternative hypotheses\n",
    "    will be:\n",
    "    Ho = The average time spent by the users is 50 minutes\n",
    "    H1 = The average time spent by the users is not 50 minutes\n",
    "    Use a 5% significance level to test this hypothesis."
   ]
  },
  {
   "cell_type": "code",
   "execution_count": 9,
   "id": "c507543b",
   "metadata": {},
   "outputs": [
    {
     "name": "stdout",
     "output_type": "stream",
     "text": [
      "Fail to reject the null hypothesis. The average time spent by the users is not significantly different from 50 minutes.\n"
     ]
    }
   ],
   "source": [
    "# Sample information\n",
    "sample_mean = 60\n",
    "sample_std_dev = 30\n",
    "sample_size = 25\n",
    "\n",
    "# Population parameters under the null hypothesis\n",
    "null_mean = 50\n",
    "\n",
    "# Perform one-sample t-test\n",
    "t_statistic, p_value = s.ttest_1samp([sample_mean], null_mean)\n",
    "\n",
    "# Compare the p-value with the significance level\n",
    "alpha = 0.05\n",
    "\n",
    "if p_value < alpha:\n",
    "    print(\"Reject the null hypothesis. The average time spent by the users is significantly different from 50 minutes.\")\n",
    "else:\n",
    "    print(\"Fail to reject the null hypothesis. The average time spent by the users is not significantly different from 50 minutes.\")\n"
   ]
  },
  {
   "cell_type": "raw",
   "id": "187a7b51",
   "metadata": {},
   "source": [
    "2. Height of 7 students (in cm) is given below. What is the median? 168\n",
    "   170 169 160 162 164 162."
   ]
  },
  {
   "cell_type": "raw",
   "id": "c420a93a",
   "metadata": {},
   "source": [
    "ans:->   Median =  Median, in statistics, is the middle value of the given list of data when arranged in an order.\n",
    "                   The arrangement of data or observations can be made either in ascending order or descending order. "
   ]
  },
  {
   "cell_type": "code",
   "execution_count": 28,
   "id": "c330d433",
   "metadata": {},
   "outputs": [
    {
     "name": "stdout",
     "output_type": "stream",
     "text": [
      "Median of Height of 7 students (in cm) is 164\n"
     ]
    }
   ],
   "source": [
    "Height_of_7_students=[168,170, 169, 160, 162, 164, 162]\n",
    "median=stats.median(Height_of_7_students)\n",
    "\n",
    "print('Median of Height of 7 students (in cm) is',median)"
   ]
  },
  {
   "cell_type": "raw",
   "id": "a4878b25",
   "metadata": {},
   "source": [
    " 3. Below are the observations of the marks of a student. Find the value\n",
    "   of mode.\n",
    "   84 85 89 92 93 89 87 89 92\n"
   ]
  },
  {
   "cell_type": "raw",
   "id": "a94cd7aa",
   "metadata": {},
   "source": [
    "Ans:-> Mode =  A mode is defined as the value that has a higher frequency in a given set of values.\n",
    "               It is the value that appears the most number of times. "
   ]
  },
  {
   "cell_type": "code",
   "execution_count": 11,
   "id": "1fa319ac",
   "metadata": {},
   "outputs": [
    {
     "name": "stdout",
     "output_type": "stream",
     "text": [
      "Mode of the marks of a student is 89\n"
     ]
    }
   ],
   "source": [
    "marks_of_student=[84, 85, 89, 92, 93, 89, 87, 89, 92]\n",
    "mode=stats.mode(marks_of_student)\n",
    "\n",
    "print('Mode of the marks of a student is',mode)"
   ]
  },
  {
   "cell_type": "raw",
   "id": "ad3507bc",
   "metadata": {},
   "source": [
    "4. From the table given below, what is the mean of marks obtained by 20\n",
    "students?\n",
    "3 1 \n",
    "4 2\n",
    "5 2\n",
    "6 4\n",
    "7 5\n",
    "8 3\n",
    "9 2\n",
    "10 1\n"
   ]
  },
  {
   "cell_type": "code",
   "execution_count": 29,
   "id": "6f78472b",
   "metadata": {},
   "outputs": [
    {
     "name": "stdout",
     "output_type": "stream",
     "text": [
      "[ 3  8 10 24 35 24 18 10]\n",
      "The mean of marks obtained by 20 students is 16\n"
     ]
    }
   ],
   "source": [
    "Marks_Xi = np.array([3,4,5,6,7,8,9,10])\n",
    "No_of_students_fi=  np.array([1,2,2,4,5,3,2,1])\n",
    "\n",
    "#Multiplying both of Marks_Xi and No_of_students_fi\n",
    "\n",
    "a=(Marks_Xi*No_of_students_fi)\n",
    "print(a)\n",
    "\n",
    "mean=stats.mean(a)\n",
    "print('The mean of marks obtained by 20 students is',mean)"
   ]
  },
  {
   "cell_type": "raw",
   "id": "96592b5c",
   "metadata": {},
   "source": [
    "5. For a certain type of computer, the length of time between charges of\n",
    "the battery is normally distributed with a mean of 50 hours and a\n",
    "standard deviation of 15 hours. John owns one of these computers\n",
    "and wants to know the probability that the length of time will be\n",
    "between 50 and 70 hours."
   ]
  },
  {
   "cell_type": "code",
   "execution_count": 33,
   "id": "54b116b2",
   "metadata": {},
   "outputs": [
    {
     "name": "stdout",
     "output_type": "stream",
     "text": [
      "The probability that the length of time is between 50 and 70 hours is: 0.4087887802741321\n"
     ]
    }
   ],
   "source": [
    "from scipy.stats import norm\n",
    "mean = 50\n",
    "std_dev = 15\n",
    "\n",
    "lower_bound = 50\n",
    "upper_bound = 70\n",
    "\n",
    "# Calculate z-scores for the lower and upper bounds\n",
    "z_lower = (lower_bound - mean) / std_dev\n",
    "z_upper = (upper_bound - mean) / std_dev\n",
    "\n",
    "# Calculate the probability using the cumulative distribution function (CDF)\n",
    "probability = norm.cdf(z_upper) - norm.cdf(z_lower)\n",
    "\n",
    "print(f\"The probability that the length of time is between {lower_bound} and {upper_bound} hours is: {probability}\")\n"
   ]
  },
  {
   "cell_type": "raw",
   "id": "ccbd8a83",
   "metadata": {},
   "source": [
    "6. Find the range of the following.\n",
    "g = [10, 23, 12, 21, 14, 17, 16, 11, 15, 19]"
   ]
  },
  {
   "cell_type": "raw",
   "id": "e7fc2cdf",
   "metadata": {},
   "source": [
    "Ans:->  \n",
    "    Range = In statistics, the difference between the highest and lowest observations in a given data is called its Range."
   ]
  },
  {
   "cell_type": "code",
   "execution_count": 14,
   "id": "f8e7b1a9",
   "metadata": {},
   "outputs": [
    {
     "name": "stdout",
     "output_type": "stream",
     "text": [
      "Max value of g is 23\n",
      "Min value of g is 10\n",
      "Range of g is 13\n"
     ]
    }
   ],
   "source": [
    "g = [10, 23, 12, 21, 14, 17, 16, 11, 15, 19]\n",
    "\n",
    "max_value= max(g)\n",
    "print('Max value of g is',max_value)\n",
    "min_value= min(g)\n",
    "print('Min value of g is',min_value)\n",
    "\n",
    "range= max_value - min_value\n",
    "print('Range of g is',range)"
   ]
  },
  {
   "cell_type": "raw",
   "id": "075b75e9",
   "metadata": {},
   "source": [
    "7. It is estimated that 50% of emails are spam emails. Some software\n",
    "has been applied to filter these spam emails before they reach your\n",
    "inbox. A certain brand of software claims that it can detect 99% of\n",
    "spam emails, and the probability for a false positive (a non-spam\n",
    "email detected as spam) is 5%. Now if an email is detected as spam,\n",
    "then what is the probability that it is in fact a non-spam email?\n"
   ]
  },
  {
   "cell_type": "code",
   "execution_count": 15,
   "id": "3a1e230a",
   "metadata": {},
   "outputs": [
    {
     "name": "stdout",
     "output_type": "stream",
     "text": [
      "The probability that an email detected as spam is non-spam is: 0.9519230769230769\n"
     ]
    }
   ],
   "source": [
    "Spam = 0.5\n",
    "NotSpam = 1 - Spam\n",
    "DetectSpam_given_Spam = 0.99\n",
    "DetectSpam_given_NotSpam = 0.05\n",
    "\n",
    "# Calculate the probability of a false positive (non-spam detected as spam)\n",
    "Pro_FalsePositive = DetectSpam_given_NotSpam * NotSpam\n",
    "\n",
    "# Calculate the probability of a true positive (spam detected as spam)\n",
    "Pro_TruePositive = DetectSpam_given_Spam * Spam\n",
    "\n",
    "# Calculate the probability of an email being detected as spam\n",
    "Pro_DetectSpam = Pro_FalsePositive + Pro_TruePositive\n",
    "\n",
    "# Calculate the probability that an email detected as spam is non-spam\n",
    "Pro_NotSpam_given_D = Pro_TruePositive / Pro_DetectSpam\n",
    "\n",
    "print(\"The probability that an email detected as spam is non-spam is:\", Pro_NotSpam_given_D)\n"
   ]
  },
  {
   "cell_type": "raw",
   "id": "5a1f0376",
   "metadata": {},
   "source": [
    "8. Given the following distribution of returns, determine the lower\n",
    "quartile:\n",
    "{10 25 12 21 19 17 16 11 15 19}"
   ]
  },
  {
   "cell_type": "code",
   "execution_count": 16,
   "id": "d68237f0",
   "metadata": {},
   "outputs": [
    {
     "name": "stdout",
     "output_type": "stream",
     "text": [
      "12.75\n",
      "16.5\n",
      "19.0\n",
      "The lower quartile is the 3rd percentile of Data is 12.75\n"
     ]
    }
   ],
   "source": [
    "Data=[10, 25, 12, 21, 19 ,17 ,16 ,11, 15 ,19]\n",
    "\n",
    "q1 = np.percentile(Data, 25)\n",
    "q2 = np.percentile(Data, 50) \n",
    "q3 = np.percentile(Data, 75) \n",
    "print(q1)\n",
    "print(q2)\n",
    "print(q3)\n",
    "print('The lower quartile is the 3rd percentile of Data is',q1)"
   ]
  },
  {
   "cell_type": "code",
   "execution_count": 17,
   "id": "b6120c9f",
   "metadata": {},
   "outputs": [
    {
     "name": "stdout",
     "output_type": "stream",
     "text": [
      "[11.75, 16.5, 19.5]\n"
     ]
    }
   ],
   "source": [
    "quartiles = stats.quantiles(Data ,n=4)\n",
    "print(quartiles)"
   ]
  },
  {
   "cell_type": "raw",
   "id": "130f8498",
   "metadata": {},
   "source": [
    "9. For a Binomial distribution, the number of trials(n) is 25, and the\n",
    "probability of success is 0.3. What’s the variability of the\n",
    "distribution?"
   ]
  },
  {
   "cell_type": "code",
   "execution_count": 34,
   "id": "141d37f8",
   "metadata": {},
   "outputs": [
    {
     "name": "stdout",
     "output_type": "stream",
     "text": [
      "The variability (standard deviation) of the binomial distribution is: 2.29128784747792\n"
     ]
    }
   ],
   "source": [
    "from scipy.stats import binom\n",
    "n = 25 #number of trials\n",
    "p = 0.3 #probability of success\n",
    "\n",
    "# Create a binomial distribution object\n",
    "binomial_dist = binom(n, p)\n",
    "\n",
    "# Calculate the standard deviation\n",
    "variability = binomial_dist.std()\n",
    "\n",
    "print(\"The variability (standard deviation) of the binomial distribution is:\", variability)"
   ]
  },
  {
   "cell_type": "code",
   "execution_count": 24,
   "id": "8e472e70",
   "metadata": {},
   "outputs": [
    {
     "data": {
      "text/html": [
       "<div>\n",
       "<style scoped>\n",
       "    .dataframe tbody tr th:only-of-type {\n",
       "        vertical-align: middle;\n",
       "    }\n",
       "\n",
       "    .dataframe tbody tr th {\n",
       "        vertical-align: top;\n",
       "    }\n",
       "\n",
       "    .dataframe thead th {\n",
       "        text-align: right;\n",
       "    }\n",
       "</style>\n",
       "<table border=\"1\" class=\"dataframe\">\n",
       "  <thead>\n",
       "    <tr style=\"text-align: right;\">\n",
       "      <th></th>\n",
       "      <th>Gender</th>\n",
       "      <th>Carrier</th>\n",
       "      <th>Type</th>\n",
       "      <th>Usage</th>\n",
       "      <th>Signal strength</th>\n",
       "      <th>Value for the Dollar</th>\n",
       "      <th>Customer Service</th>\n",
       "    </tr>\n",
       "  </thead>\n",
       "  <tbody>\n",
       "    <tr>\n",
       "      <th>0</th>\n",
       "      <td>M</td>\n",
       "      <td>AT&amp;T</td>\n",
       "      <td>Smart</td>\n",
       "      <td>High</td>\n",
       "      <td>5</td>\n",
       "      <td>4</td>\n",
       "      <td>4</td>\n",
       "    </tr>\n",
       "    <tr>\n",
       "      <th>1</th>\n",
       "      <td>M</td>\n",
       "      <td>AT&amp;T</td>\n",
       "      <td>Smart</td>\n",
       "      <td>High</td>\n",
       "      <td>5</td>\n",
       "      <td>4</td>\n",
       "      <td>2</td>\n",
       "    </tr>\n",
       "    <tr>\n",
       "      <th>2</th>\n",
       "      <td>M</td>\n",
       "      <td>AT&amp;T</td>\n",
       "      <td>Smart</td>\n",
       "      <td>Average</td>\n",
       "      <td>4</td>\n",
       "      <td>4</td>\n",
       "      <td>4</td>\n",
       "    </tr>\n",
       "    <tr>\n",
       "      <th>3</th>\n",
       "      <td>M</td>\n",
       "      <td>AT&amp;T</td>\n",
       "      <td>Smart</td>\n",
       "      <td>Very high</td>\n",
       "      <td>2</td>\n",
       "      <td>3</td>\n",
       "      <td>3</td>\n",
       "    </tr>\n",
       "    <tr>\n",
       "      <th>4</th>\n",
       "      <td>M</td>\n",
       "      <td>AT&amp;T</td>\n",
       "      <td>Smart</td>\n",
       "      <td>Very high</td>\n",
       "      <td>5</td>\n",
       "      <td>5</td>\n",
       "      <td>2</td>\n",
       "    </tr>\n",
       "  </tbody>\n",
       "</table>\n",
       "</div>"
      ],
      "text/plain": [
       "  Gender Carrier   Type      Usage  Signal strength  Value for the Dollar  \\\n",
       "0      M    AT&T  Smart       High                5                     4   \n",
       "1      M    AT&T  Smart       High                5                     4   \n",
       "2      M    AT&T  Smart    Average                4                     4   \n",
       "3      M    AT&T  Smart  Very high                2                     3   \n",
       "4      M    AT&T  Smart  Very high                5                     5   \n",
       "\n",
       "   Customer Service  \n",
       "0                 4  \n",
       "1                 2  \n",
       "2                 4  \n",
       "3                 3  \n",
       "4                 2  "
      ]
     },
     "execution_count": 24,
     "metadata": {},
     "output_type": "execute_result"
    }
   ],
   "source": [
    "df = pd.read_csv('Cell Phone Survey.csv')\n",
    "df.head()"
   ]
  },
  {
   "cell_type": "raw",
   "id": "9d9785fa",
   "metadata": {},
   "source": [
    "10.1 Checking datatypes of each column in the dataset"
   ]
  },
  {
   "cell_type": "code",
   "execution_count": null,
   "id": "2525160e",
   "metadata": {},
   "outputs": [],
   "source": [
    "df.dtypes"
   ]
  },
  {
   "cell_type": "raw",
   "id": "24d0d933",
   "metadata": {},
   "source": [
    "10.2  Find Mean of Signal strength column using Pandas and\n",
    "      Statistics library."
   ]
  },
  {
   "cell_type": "code",
   "execution_count": null,
   "id": "6be792a0",
   "metadata": {},
   "outputs": [],
   "source": [
    "mean= df['Signal strength'].mean()\n",
    "print('Mean of Signal strength is',mean)"
   ]
  },
  {
   "cell_type": "raw",
   "id": "94fa7447",
   "metadata": {},
   "source": [
    "10.3 Find the Median of Customer Service column using Pandas and\n",
    "     Statistics library."
   ]
  },
  {
   "cell_type": "code",
   "execution_count": null,
   "id": "36c1d3ac",
   "metadata": {},
   "outputs": [],
   "source": [
    "median= df['Customer Service'].median()\n",
    "print('Median of Customer Service using Pandas is',median)"
   ]
  },
  {
   "cell_type": "code",
   "execution_count": null,
   "id": "bb9dd800",
   "metadata": {},
   "outputs": [],
   "source": [
    "d1=df['Customer Service']\n",
    "median2=stats.median(d1)\n",
    "print('Median of Customer Service using statisics is',median2)"
   ]
  },
  {
   "cell_type": "raw",
   "id": "3e6700b1",
   "metadata": {},
   "source": [
    "10.4 Find Mode of Signal strength column using Pandas and\n",
    "     Statistics library"
   ]
  },
  {
   "cell_type": "code",
   "execution_count": null,
   "id": "24f51d29",
   "metadata": {
    "scrolled": true
   },
   "outputs": [],
   "source": [
    "df['Signal strength'].value_counts()"
   ]
  },
  {
   "cell_type": "code",
   "execution_count": null,
   "id": "0849defc",
   "metadata": {},
   "outputs": [],
   "source": [
    "mode= df['Signal strength'].mode()\n",
    "print('Mode of Signal strength using Pandas is',mode)"
   ]
  },
  {
   "cell_type": "code",
   "execution_count": null,
   "id": "d89a6a10",
   "metadata": {},
   "outputs": [],
   "source": [
    "d2=df['Signal strength']\n",
    "mode2=stats.mode(d2)\n",
    "print('mode of Signal strength using statisics is',mode2)"
   ]
  },
  {
   "cell_type": "raw",
   "id": "396d8bb2",
   "metadata": {},
   "source": [
    "10.5  Find Standard deviation of Customer Service column using\n",
    "      Pandas and Statistics library."
   ]
  },
  {
   "cell_type": "code",
   "execution_count": 25,
   "id": "f77d1c38",
   "metadata": {},
   "outputs": [
    {
     "name": "stdout",
     "output_type": "stream",
     "text": [
      " Standard deviation of Customer Service by using pandas 0.9623375261979594\n"
     ]
    }
   ],
   "source": [
    "Std= df['Customer Service'].std()\n",
    "print(' Standard deviation of Customer Service by using pandas',Std)"
   ]
  },
  {
   "cell_type": "code",
   "execution_count": null,
   "id": "e216883d",
   "metadata": {},
   "outputs": [],
   "source": [
    "d3=df['Customer Service']\n",
    "Std2=stats.stdev(d3)\n",
    "print(' Standard deviation of Customer Service by using statistics',Std2)"
   ]
  },
  {
   "cell_type": "raw",
   "id": "070005fd",
   "metadata": {},
   "source": [
    "10.6  Find Variance of Customer Service column using Pandas and\n",
    "      Statistics library"
   ]
  },
  {
   "cell_type": "code",
   "execution_count": null,
   "id": "36aa73ff",
   "metadata": {},
   "outputs": [],
   "source": [
    "var= df['Customer Service'].var()\n",
    "print('Variance of Customer Service column using Pandas is',var)"
   ]
  },
  {
   "cell_type": "code",
   "execution_count": null,
   "id": "3d9edee5",
   "metadata": {},
   "outputs": [],
   "source": [
    "d3=df['Customer Service']\n",
    "var2=stats.variance(d3)\n",
    "print(' Standard deviation of Customer Service by using statistics',var2)"
   ]
  },
  {
   "cell_type": "raw",
   "id": "af283d51",
   "metadata": {},
   "source": [
    "10.7  Calculate Percentiles of Value for the Dollar column using\n",
    "      Numpy."
   ]
  },
  {
   "cell_type": "code",
   "execution_count": null,
   "id": "c55f9fe5",
   "metadata": {},
   "outputs": [],
   "source": [
    "d4=df['Value for the Dollar']\n",
    "q1 = np.percentile(d4,25)\n",
    "q2 = np.percentile(d4, 50) \n",
    "q3 = np.percentile(d4, 75) \n",
    "print('The 1st 25 Percentiles of Value for the Dollar',q1)\n",
    "print('The 2st 50 Percentiles of Value for the Dollar',q2)\n",
    "print('The 3st 75 Percentiles of Value for the Dollar',q3)"
   ]
  },
  {
   "cell_type": "code",
   "execution_count": null,
   "id": "097be6b4",
   "metadata": {},
   "outputs": [],
   "source": [
    "df['Value for the Dollar'].describe()"
   ]
  },
  {
   "cell_type": "raw",
   "id": "b712b737",
   "metadata": {},
   "source": [
    "10.8  Calculate Range of Value for the Dollar column using Pandas.\n"
   ]
  },
  {
   "cell_type": "code",
   "execution_count": null,
   "id": "fd39362f",
   "metadata": {},
   "outputs": [],
   "source": [
    "max_value=df['Value for the Dollar'].max()\n",
    "print('Max Value for the Dollar is',max_value)\n",
    "min_value= df['Value for the Dollar'].min()\n",
    "print('Min Value for the Dollar is',min_value)\n",
    "\n",
    "range= max_value - min_value\n",
    "print('Range of Value for the Dollar is',range)"
   ]
  },
  {
   "cell_type": "raw",
   "id": "03357de2",
   "metadata": {},
   "source": [
    "10.9  Calculate IQR of Value for the Dollar column using Pandas."
   ]
  },
  {
   "cell_type": "raw",
   "id": "cbc96125",
   "metadata": {},
   "source": [
    "ans:- \n",
    "         IQR= The interquartile range, often denoted “IQR”, is a way to measure the spread of the middle 50% of a dataset. It is               calculated as the difference between the first quartile* (the 25th percentile) and the third quartile (the 75th                 percentile) of a dataset. "
   ]
  },
  {
   "cell_type": "code",
   "execution_count": 26,
   "id": "06351cf8",
   "metadata": {},
   "outputs": [
    {
     "name": "stdout",
     "output_type": "stream",
     "text": [
      "The 1st quantile of Value for the Dollar 3.0\n",
      "The 3st quantile  of Value for the Dollar 4.0\n",
      "IQR of Value for the Dollar column 1.0\n"
     ]
    }
   ],
   "source": [
    "q1=df['Value for the Dollar'].quantile(.25)\n",
    "print('The 1st quantile of Value for the Dollar',q1)\n",
    "\n",
    "q3 = df['Value for the Dollar'].quantile(.75)\n",
    "print('The 3st quantile  of Value for the Dollar',q3)\n",
    "\n",
    "IQR = q3 - q1\n",
    "\n",
    "print('IQR of Value for the Dollar column',IQR)"
   ]
  },
  {
   "cell_type": "raw",
   "id": "bca82bbc",
   "metadata": {},
   "source": [
    "10.10  Hypothesis Testing - Using the data in the Cell Phone Survey\n",
    "        dataset, apply ANOVA to determine if the mean response for\n",
    "         Value for dollar is the same for different types of cell phones.\n"
   ]
  },
  {
   "cell_type": "code",
   "execution_count": 35,
   "id": "bbe46cab",
   "metadata": {},
   "outputs": [
    {
     "data": {
      "text/html": [
       "<div>\n",
       "<style scoped>\n",
       "    .dataframe tbody tr th:only-of-type {\n",
       "        vertical-align: middle;\n",
       "    }\n",
       "\n",
       "    .dataframe tbody tr th {\n",
       "        vertical-align: top;\n",
       "    }\n",
       "\n",
       "    .dataframe thead th {\n",
       "        text-align: right;\n",
       "    }\n",
       "</style>\n",
       "<table border=\"1\" class=\"dataframe\">\n",
       "  <thead>\n",
       "    <tr style=\"text-align: right;\">\n",
       "      <th></th>\n",
       "      <th>Gender</th>\n",
       "      <th>Carrier</th>\n",
       "      <th>Type</th>\n",
       "      <th>Usage</th>\n",
       "      <th>Signal strength</th>\n",
       "      <th>Value for the Dollar</th>\n",
       "      <th>Customer Service</th>\n",
       "    </tr>\n",
       "  </thead>\n",
       "  <tbody>\n",
       "    <tr>\n",
       "      <th>0</th>\n",
       "      <td>M</td>\n",
       "      <td>AT&amp;T</td>\n",
       "      <td>Smart</td>\n",
       "      <td>High</td>\n",
       "      <td>5</td>\n",
       "      <td>4</td>\n",
       "      <td>4</td>\n",
       "    </tr>\n",
       "    <tr>\n",
       "      <th>1</th>\n",
       "      <td>M</td>\n",
       "      <td>AT&amp;T</td>\n",
       "      <td>Smart</td>\n",
       "      <td>High</td>\n",
       "      <td>5</td>\n",
       "      <td>4</td>\n",
       "      <td>2</td>\n",
       "    </tr>\n",
       "    <tr>\n",
       "      <th>2</th>\n",
       "      <td>M</td>\n",
       "      <td>AT&amp;T</td>\n",
       "      <td>Smart</td>\n",
       "      <td>Average</td>\n",
       "      <td>4</td>\n",
       "      <td>4</td>\n",
       "      <td>4</td>\n",
       "    </tr>\n",
       "    <tr>\n",
       "      <th>3</th>\n",
       "      <td>M</td>\n",
       "      <td>AT&amp;T</td>\n",
       "      <td>Smart</td>\n",
       "      <td>Very high</td>\n",
       "      <td>2</td>\n",
       "      <td>3</td>\n",
       "      <td>3</td>\n",
       "    </tr>\n",
       "    <tr>\n",
       "      <th>4</th>\n",
       "      <td>M</td>\n",
       "      <td>AT&amp;T</td>\n",
       "      <td>Smart</td>\n",
       "      <td>Very high</td>\n",
       "      <td>5</td>\n",
       "      <td>5</td>\n",
       "      <td>2</td>\n",
       "    </tr>\n",
       "  </tbody>\n",
       "</table>\n",
       "</div>"
      ],
      "text/plain": [
       "  Gender Carrier   Type      Usage  Signal strength  Value for the Dollar  \\\n",
       "0      M    AT&T  Smart       High                5                     4   \n",
       "1      M    AT&T  Smart       High                5                     4   \n",
       "2      M    AT&T  Smart    Average                4                     4   \n",
       "3      M    AT&T  Smart  Very high                2                     3   \n",
       "4      M    AT&T  Smart  Very high                5                     5   \n",
       "\n",
       "   Customer Service  \n",
       "0                 4  \n",
       "1                 2  \n",
       "2                 4  \n",
       "3                 3  \n",
       "4                 2  "
      ]
     },
     "execution_count": 35,
     "metadata": {},
     "output_type": "execute_result"
    }
   ],
   "source": [
    "df.head()"
   ]
  },
  {
   "cell_type": "code",
   "execution_count": 37,
   "id": "dc83f6b5",
   "metadata": {},
   "outputs": [
    {
     "ename": "AttributeError",
     "evalue": "module 'statistics' has no attribute 'f_oneway'",
     "output_type": "error",
     "traceback": [
      "\u001b[1;31m---------------------------------------------------------------------------\u001b[0m",
      "\u001b[1;31mAttributeError\u001b[0m                            Traceback (most recent call last)",
      "Cell \u001b[1;32mIn[37], line 2\u001b[0m\n\u001b[0;32m      1\u001b[0m \u001b[38;5;66;03m# Perform one-way ANOVA\u001b[39;00m\n\u001b[1;32m----> 2\u001b[0m result \u001b[38;5;241m=\u001b[39m \u001b[43mstats\u001b[49m\u001b[38;5;241;43m.\u001b[39;49m\u001b[43mf_oneway\u001b[49m(df[\u001b[38;5;124m'\u001b[39m\u001b[38;5;124mValue for dollar\u001b[39m\u001b[38;5;124m'\u001b[39m][df[\u001b[38;5;124m'\u001b[39m\u001b[38;5;124mPhone Type\u001b[39m\u001b[38;5;124m'\u001b[39m] \u001b[38;5;241m==\u001b[39m \u001b[38;5;124m'\u001b[39m\u001b[38;5;124mType A\u001b[39m\u001b[38;5;124m'\u001b[39m],\n\u001b[0;32m      3\u001b[0m                         df[\u001b[38;5;124m'\u001b[39m\u001b[38;5;124mValue for dollar\u001b[39m\u001b[38;5;124m'\u001b[39m][df[\u001b[38;5;124m'\u001b[39m\u001b[38;5;124mPhone Type\u001b[39m\u001b[38;5;124m'\u001b[39m] \u001b[38;5;241m==\u001b[39m \u001b[38;5;124m'\u001b[39m\u001b[38;5;124mType B\u001b[39m\u001b[38;5;124m'\u001b[39m],\n\u001b[0;32m      4\u001b[0m                         df[\u001b[38;5;124m'\u001b[39m\u001b[38;5;124mValue for dollar\u001b[39m\u001b[38;5;124m'\u001b[39m][df[\u001b[38;5;124m'\u001b[39m\u001b[38;5;124mPhone Type\u001b[39m\u001b[38;5;124m'\u001b[39m] \u001b[38;5;241m==\u001b[39m \u001b[38;5;124m'\u001b[39m\u001b[38;5;124mType C\u001b[39m\u001b[38;5;124m'\u001b[39m])\n\u001b[0;32m      6\u001b[0m \u001b[38;5;66;03m# Extract the test statistic and p-value from the ANOVA result\u001b[39;00m\n\u001b[0;32m      7\u001b[0m f_statistic \u001b[38;5;241m=\u001b[39m result\u001b[38;5;241m.\u001b[39mstatistic\n",
      "\u001b[1;31mAttributeError\u001b[0m: module 'statistics' has no attribute 'f_oneway'"
     ]
    }
   ],
   "source": [
    "# Perform one-way ANOVA\n",
    "result = stats.f_oneway(df['Value for dollar'][df['Phone Type'] == 'Type A'],\n",
    "                        df['Value for dollar'][df['Phone Type'] == 'Type B'],\n",
    "                        df['Value for dollar'][df['Phone Type'] == 'Type C'])\n",
    "\n",
    "# Extract the test statistic and p-value from the ANOVA result\n",
    "f_statistic = result.statistic\n",
    "p_value = result.pvalue\n",
    "\n",
    "# Print the ANOVA results\n",
    "print(\"One-Way ANOVA Results:\")\n",
    "print(\"F-Statistic:\", f_statistic)\n",
    "print(\"p-value:\", p_value)\n"
   ]
  }
 ],
 "metadata": {
  "kernelspec": {
   "display_name": "Python 3 (ipykernel)",
   "language": "python",
   "name": "python3"
  },
  "language_info": {
   "codemirror_mode": {
    "name": "ipython",
    "version": 3
   },
   "file_extension": ".py",
   "mimetype": "text/x-python",
   "name": "python",
   "nbconvert_exporter": "python",
   "pygments_lexer": "ipython3",
   "version": "3.10.9"
  }
 },
 "nbformat": 4,
 "nbformat_minor": 5
}
